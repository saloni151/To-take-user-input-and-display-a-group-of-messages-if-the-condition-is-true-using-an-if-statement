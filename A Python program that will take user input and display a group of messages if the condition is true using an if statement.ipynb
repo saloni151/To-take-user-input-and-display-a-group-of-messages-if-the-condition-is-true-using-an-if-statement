{
 "cells": [
  {
   "cell_type": "markdown",
   "id": "faaceeae-aae7-40a6-bc5b-b5fdafe83479",
   "metadata": {},
   "source": [
    "**Write a Python program that will take user input and display a group of messages if the condition is true using an if statement.**"
   ]
  },
  {
   "cell_type": "code",
   "execution_count": 1,
   "id": "c5fa0ea2-fe46-4f6d-9fbe-79cbc92b3a8c",
   "metadata": {},
   "outputs": [
    {
     "name": "stdin",
     "output_type": "stream",
     "text": [
      " Enter the number: 56\n"
     ]
    }
   ],
   "source": [
    "#Taking input from the users\n",
    "a=int(input(\" Enter the number:\"))"
   ]
  },
  {
   "cell_type": "code",
   "execution_count": 2,
   "id": "8c10e67a-56a7-41cd-bebf-861f7f603084",
   "metadata": {},
   "outputs": [
    {
     "name": "stdout",
     "output_type": "stream",
     "text": [
      "The number is greater than zero.\n",
      "This number is positive integer.\n",
      "Well done! You have entered a positive number.\n"
     ]
    }
   ],
   "source": [
    "#Using an if statement to display the group of messages if the condition is true\n",
    "if(a>0):\n",
    "    print(\"The number is greater than zero.\")\n",
    "    print(\"This number is positive integer.\")\n",
    "    print(\"Well done! You have entered a positive number.\")\n",
    "    \n",
    "    "
   ]
  },
  {
   "cell_type": "code",
   "execution_count": null,
   "id": "cc327be6-fec9-4e9b-92b1-9af7ef7fb6d9",
   "metadata": {},
   "outputs": [],
   "source": []
  },
  {
   "cell_type": "code",
   "execution_count": null,
   "id": "c9c82609-2dfb-493d-8230-722452eb18f5",
   "metadata": {},
   "outputs": [],
   "source": []
  },
  {
   "cell_type": "code",
   "execution_count": null,
   "id": "84dea967-6e08-43fd-84e4-e3b7481ad1ff",
   "metadata": {},
   "outputs": [],
   "source": []
  },
  {
   "cell_type": "code",
   "execution_count": null,
   "id": "734e36f8-23cd-4591-9a99-6977ac757171",
   "metadata": {},
   "outputs": [],
   "source": []
  },
  {
   "cell_type": "code",
   "execution_count": null,
   "id": "75571074-7c44-4370-8882-ab155f5016ba",
   "metadata": {},
   "outputs": [],
   "source": []
  },
  {
   "cell_type": "code",
   "execution_count": null,
   "id": "56480630-ae88-45cd-8869-90b0c77d7a14",
   "metadata": {},
   "outputs": [],
   "source": []
  },
  {
   "cell_type": "code",
   "execution_count": null,
   "id": "1034ce21-154c-4f91-9673-50166fc94cf2",
   "metadata": {},
   "outputs": [],
   "source": []
  },
  {
   "cell_type": "code",
   "execution_count": null,
   "id": "f7a5755b-3996-4330-b0d3-902cee0f9049",
   "metadata": {},
   "outputs": [],
   "source": []
  }
 ],
 "metadata": {
  "kernelspec": {
   "display_name": "Python 3 (ipykernel)",
   "language": "python",
   "name": "python3"
  },
  "language_info": {
   "codemirror_mode": {
    "name": "ipython",
    "version": 3
   },
   "file_extension": ".py",
   "mimetype": "text/x-python",
   "name": "python",
   "nbconvert_exporter": "python",
   "pygments_lexer": "ipython3",
   "version": "3.12.7"
  }
 },
 "nbformat": 4,
 "nbformat_minor": 5
}
